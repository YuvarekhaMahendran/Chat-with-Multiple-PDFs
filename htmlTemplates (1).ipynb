{
  "cells": [
    {
      "cell_type": "code",
      "source": [
        "# This is the CSS style for customizing the chat interface.\n",
        "css = '''\n",
        "<style>\n",
        ".chat-message {\n",
        "    padding: 1.8rem;                /* Padding around each message bubble */\n",
        "    border-radius: 1.5rem;          /* Rounded corners for the message bubbles */\n",
        "    margin-bottom: 1.5rem;          /* Space below each message bubble */\n",
        "    display: flex                   /* Using flexbox for layout */\n",
        "}\n",
        ".chat-message.user {\n",
        "    background-color: #1b312e       /* Dark green background for user messages */\n",
        "}\n",
        ".chat-message.bot {\n",
        "    background-color: #512423       /* Dark maroon background for bot messages */\n",
        "}\n",
        ".chat-message .avatar {\n",
        "  width: 30%;                       /* Avatar takes 30% of the width of the chat bubble */\n",
        "}\n",
        ".chat-message .avatar img {\n",
        "  max-width: 82px;                  /* Max width for avatar images */\n",
        "  max-height: 82px;                 /* Max height for avatar images */\n",
        "  border-radius: 40%;               /* Circular avatar images */\n",
        "  object-fit: cover;                /* Crop the image to cover the avatar space */\n",
        "}\n",
        ".chat-message .message {\n",
        "  width: 75%;                       /* The message text occupies 75% of the chat bubble */\n",
        "  padding: 0 1.5rem;                /* Padding for message text */\n",
        "  color: #eff;                      /* Text color (light color for visibility) */\n",
        "}\n",
        "</style>\n",
        "'''"
      ],
      "metadata": {
        "id": "IjnXNlNwYP2j"
      },
      "id": "IjnXNlNwYP2j",
      "execution_count": null,
      "outputs": []
    },
    {
      "cell_type": "code",
      "source": [
        "# This is the HTML template for displaying the bot's message in the chat interface.\n",
        "bot_template = '''\n",
        "<div class=\"chat-message bot\">\n",
        "    <div class=\"avatar\">\n",
        "        <!-- Avatar for the bot, image source is a URL -->\n",
        "        <img src=\"https://i.ibb.co/cN0nmSj/Screenshot-2023-05-28-at-02-37-21.png\" style=\"max-height: 78px; max-width: 78px; border-radius: 50%; object-fit: cover;\">\n",
        "    </div>\n",
        "    <!-- Placeholder for the bot's message content -->\n",
        "    <div class=\"message\">{{MSG}}</div>\n",
        "</div>\n",
        "'''"
      ],
      "metadata": {
        "id": "zBjfoCPxYU_O"
      },
      "id": "zBjfoCPxYU_O",
      "execution_count": null,
      "outputs": []
    },
    {
      "cell_type": "code",
      "source": [
        "# This is the HTML template for displaying the user's message in the chat interface.\n",
        "user_template = '''\n",
        "<div class=\"chat-message user\">\n",
        "    <div class=\"avatar\">\n",
        "        <!-- Avatar for the user, image source is a URL -->\n",
        "        <img src=\"https://i.ibb.co/rdZC7LZ/Photo-logo-1.png\">\n",
        "    </div>\n",
        "    <!-- Placeholder for the user's message content -->\n",
        "    <div class=\"message\">{{MSG}}</div>\n",
        "</div>\n",
        "'''"
      ],
      "metadata": {
        "id": "K8gCXVrLYY_c"
      },
      "id": "K8gCXVrLYY_c",
      "execution_count": null,
      "outputs": []
    }
  ],
  "metadata": {
    "jupytext": {
      "cell_metadata_filter": "-all",
      "main_language": "python",
      "notebook_metadata_filter": "-all"
    },
    "colab": {
      "provenance": []
    }
  },
  "nbformat": 4,
  "nbformat_minor": 5
}